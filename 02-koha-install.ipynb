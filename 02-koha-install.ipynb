{
 "cells": [
  {
   "cell_type": "markdown",
   "metadata": {},
   "source": [
    "# Installation von Koha 19.05"
   ]
  },
  {
   "cell_type": "markdown",
   "metadata": {},
   "source": [
    "Die folgenden Befehle orientieren sich an der [offiziellen Installationsanleitung](http://wiki.koha-community.org/wiki/Debian)."
   ]
  },
  {
   "cell_type": "markdown",
   "metadata": {},
   "source": [
    "## Setup"
   ]
  },
  {
   "cell_type": "markdown",
   "metadata": {},
   "source": [
    "### Paketquellen für Koha registrieren"
   ]
  },
  {
   "cell_type": "code",
   "execution_count": null,
   "metadata": {},
   "outputs": [],
   "source": [
    "echo 'deb http://debian.koha-community.org/koha 19.05 main' | sudo tee /etc/apt/sources.list.d/koha.list\n",
    "wget -q -O- http://debian.koha-community.org/koha/gpg.asc | sudo apt-key add -\n",
    "sudo apt-get update"
   ]
  },
  {
   "cell_type": "markdown",
   "metadata": {},
   "source": [
    "### Koha und die Datenbank MariaDB installieren"
   ]
  },
  {
   "cell_type": "code",
   "execution_count": null,
   "metadata": {},
   "outputs": [],
   "source": [
    "sudo apt-get install -qq -y koha-common mariadb-server"
   ]
  },
  {
   "cell_type": "markdown",
   "metadata": {},
   "source": [
    "### Domain `meine-schule.org` für Koha konfigurieren"
   ]
  },
  {
   "cell_type": "code",
   "execution_count": null,
   "metadata": {},
   "outputs": [],
   "source": [
    "sudo sed -i 's/DOMAIN=\".myDNSname.org\"/DOMAIN=\".meine-schule.org\"/' /etc/koha/koha-sites.conf"
   ]
  },
  {
   "cell_type": "markdown",
   "metadata": {},
   "source": [
    "### Apache Konfiguration"
   ]
  },
  {
   "cell_type": "code",
   "execution_count": null,
   "metadata": {},
   "outputs": [],
   "source": [
    "sudo a2enmod rewrite\n",
    "sudo a2enmod cgi\n",
    "sudo service apache2 restart"
   ]
  },
  {
   "cell_type": "markdown",
   "metadata": {},
   "source": [
    "### Eine Bibliothek in Koha erstellen"
   ]
  },
  {
   "cell_type": "code",
   "execution_count": null,
   "metadata": {},
   "outputs": [],
   "source": [
    "sudo koha-create --create-db bibliothek"
   ]
  },
  {
   "cell_type": "markdown",
   "metadata": {},
   "source": [
    "### Deutsche Übersetzung für Koha installieren"
   ]
  },
  {
   "cell_type": "code",
   "execution_count": null,
   "metadata": {},
   "outputs": [],
   "source": [
    "sudo koha-translate --install de-DE"
   ]
  },
  {
   "cell_type": "markdown",
   "metadata": {},
   "source": [
    "### Host-Datei ergänzen"
   ]
  },
  {
   "cell_type": "code",
   "execution_count": null,
   "metadata": {},
   "outputs": [],
   "source": [
    "echo '# Koha\n",
    "127.0.0.1 bibliothek.meine-schule.org\n",
    "127.0.0.1 bibliothek-intra.meine-schule.org\n",
    "' | sudo tee -a /etc/hosts"
   ]
  },
  {
   "cell_type": "markdown",
   "metadata": {},
   "source": [
    "### Befehl, um generiertes Passwort herauszufinden"
   ]
  },
  {
   "cell_type": "code",
   "execution_count": null,
   "metadata": {},
   "outputs": [],
   "source": [
    "sudo xmlstarlet sel -t -v 'yazgfs/config/pass' /etc/koha/sites/bibliothek/koha-conf.xml;echo"
   ]
  },
  {
   "cell_type": "markdown",
   "metadata": {},
   "source": [
    "## Los geht's...\n",
    "\n",
    "Wir verwenden ein Tutorial von Stephan Tetzel, das auf deutsch und englisch verfügbar ist:\n",
    "* Deutsch: https://zefanjas.de/wie-man-koha-installiert-und-fuer-schulen-einrichtet-teil-1/\n",
    "* Englisch: https://openschoolsolutions.org/how-to-install-and-set-up-koha-for-schools-part-1/\n",
    "\n",
    "Das Tutorial besteht aus 6 Kapiteln (die Links zu den weiteren Kapiteln sind immer am Anfang der Blogartikel):\n",
    "\n",
    "1. Installation und Einrichtung einer ersten Bibliothek\n",
    "2. Das bibliografische Framework\n",
    "3. Grundeinstellungen\n",
    "4. Buchaufnahme\n",
    "5. Drucken von Etiketten\n",
    "6. Ausleihkonditionen\n",
    "\n",
    "Die im Tutorial erwähnte Grundinstallation haben wir oben bereits durchgeführt. Bitte starten Sie in Kapitel 1 unter der Überschrift \"Koha einrichten\":\n",
    "https://zefanjas.de/wie-man-koha-installiert-und-fuer-schulen-einrichtet-teil-1/"
   ]
  }
 ],
 "metadata": {
  "kernelspec": {
   "display_name": "Bash",
   "language": "bash",
   "name": "bash"
  },
  "language_info": {
   "codemirror_mode": "shell",
   "file_extension": ".sh",
   "mimetype": "text/x-sh",
   "name": "bash"
  }
 },
 "nbformat": 4,
 "nbformat_minor": 4
}
