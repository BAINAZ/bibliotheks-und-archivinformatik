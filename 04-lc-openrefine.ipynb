{
 "cells": [
  {
   "cell_type": "markdown",
   "metadata": {},
   "source": [
    "# Library Carpentry: OpenRefine"
   ]
  },
  {
   "cell_type": "markdown",
   "metadata": {},
   "source": [
    "<https://librarycarpentry.org/lc-open-refine/>"
   ]
  },
  {
   "cell_type": "markdown",
   "metadata": {},
   "source": [
    "## Installation von OpenRefine 3.2"
   ]
  },
  {
   "cell_type": "markdown",
   "metadata": {},
   "source": [
    "### In das Homeverzeichnis wechseln"
   ]
  },
  {
   "cell_type": "code",
   "execution_count": null,
   "metadata": {},
   "outputs": [],
   "source": [
    "cd"
   ]
  },
  {
   "cell_type": "markdown",
   "metadata": {},
   "source": [
    "### Java 8 installieren"
   ]
  },
  {
   "cell_type": "code",
   "execution_count": null,
   "metadata": {},
   "outputs": [],
   "source": [
    "sudo apt-get install -qq -y openjdk-8-jre-headless"
   ]
  },
  {
   "cell_type": "markdown",
   "metadata": {},
   "source": [
    "### Daten von Library Carpentry herunterladen"
   ]
  },
  {
   "cell_type": "code",
   "execution_count": null,
   "metadata": {
    "scrolled": true
   },
   "outputs": [],
   "source": [
    "wget https://github.com/LibraryCarpentry/lc-open-refine/raw/gh-pages/data/doaj-article-sample.csv"
   ]
  },
  {
   "cell_type": "markdown",
   "metadata": {},
   "source": [
    "### OpenRefine herunterladen und in den Ordner `openrefine` entpacken"
   ]
  },
  {
   "cell_type": "code",
   "execution_count": null,
   "metadata": {
    "scrolled": false
   },
   "outputs": [],
   "source": [
    "wget https://github.com/OpenRefine/OpenRefine/releases/download/3.2/openrefine-linux-3.2.tar.gz\n",
    "mkdir -p openrefine\n",
    "tar -xzf openrefine-linux-3.2.tar.gz -C openrefine --strip 1 --totals\n",
    "rm openrefine-linux-3.2.tar.gz"
   ]
  },
  {
   "cell_type": "markdown",
   "metadata": {},
   "source": [
    "### OpenRefine starten"
   ]
  },
  {
   "cell_type": "code",
   "execution_count": null,
   "metadata": {
    "scrolled": false
   },
   "outputs": [],
   "source": [
    "openrefine/refine"
   ]
  },
  {
   "cell_type": "markdown",
   "metadata": {},
   "source": [
    "## Los geht's..."
   ]
  },
  {
   "cell_type": "markdown",
   "metadata": {},
   "source": [
    "Die Adresse von OpenRefine <http://127.0.0.1:3333> sollte sich nach max. 1 Minute automatisch im Browser öffnen.\n",
    "\n",
    "OpenRefine läuft solange, wie der obige Startbefehl ausgeführt wird. Daten werden automatisch alle 5 Minuten gespeichert.\n",
    "\n",
    "Bearbeiten Sie nun die Library Carpentry Lesson zu OpenRefine: <https://librarycarpentry.org/lc-open-refine/>. Die für Kapitel 2 benötigten Beispieldaten haben wir mit einem der Befehle oben bereits heruntergeladen. Die Datei `doaj-article-sample.csv` sollte in Ihrem Benutzerverzeichnis liegen."
   ]
  }
 ],
 "metadata": {
  "kernelspec": {
   "display_name": "Bash",
   "language": "bash",
   "name": "bash"
  },
  "language_info": {
   "codemirror_mode": "shell",
   "file_extension": ".sh",
   "mimetype": "text/x-sh",
   "name": "bash"
  }
 },
 "nbformat": 4,
 "nbformat_minor": 2
}
