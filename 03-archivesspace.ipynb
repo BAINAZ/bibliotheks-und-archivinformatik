{
 "cells": [
  {
   "cell_type": "markdown",
   "metadata": {},
   "source": [
    "# Archivinformationssystem ArchivesSpace"
   ]
  },
  {
   "cell_type": "markdown",
   "metadata": {},
   "source": [
    "<https://archivesspace.org>"
   ]
  },
  {
   "cell_type": "markdown",
   "metadata": {},
   "source": [
    "## Installation von ArchivesSpace 2.7.0\n",
    "\n",
    "Die folgenden Befehle basieren auf den offiziellen Anleitungen unter:\n",
    "* <https://archivesspace.github.io/archivesspace/user/getting-started-with-archivesspace/>\n",
    "* <https://github.com/archivesspace/archivesspace/releases/tag/v2.7.0>"
   ]
  },
  {
   "cell_type": "markdown",
   "metadata": {},
   "source": [
    "### In das Home-Verzeichnis wechseln"
   ]
  },
  {
   "cell_type": "code",
   "execution_count": null,
   "metadata": {},
   "outputs": [],
   "source": [
    "cd"
   ]
  },
  {
   "cell_type": "markdown",
   "metadata": {},
   "source": [
    "### Java 8 installieren"
   ]
  },
  {
   "cell_type": "code",
   "execution_count": null,
   "metadata": {},
   "outputs": [],
   "source": [
    "sudo apt-get install -qq -y openjdk-8-jre-headless"
   ]
  },
  {
   "cell_type": "markdown",
   "metadata": {},
   "source": [
    "### Zip-Archiv herunterladen und entpacken"
   ]
  },
  {
   "cell_type": "code",
   "execution_count": null,
   "metadata": {},
   "outputs": [],
   "source": [
    "wget https://github.com/archivesspace/archivesspace/releases/download/v2.7.0/archivesspace-v2.7.0.zip\n",
    "unzip -q archivesspace-v2.7.0.zip"
   ]
  },
  {
   "cell_type": "markdown",
   "metadata": {},
   "source": [
    "### ArchivesSpace starten\n",
    "\n",
    "JupyterLab verwendet die gleiche Adresse wie ArchivesSpace, daher müssen wir JupyterLab beenden bevor wir ArchivesSpace starten.\n",
    "\n",
    "Bitte öffnen Sie ein Terminal (**nicht in JupyterLab**, sondern über Start > Systemwerkzeuge > LXTerminal) und geben Sie dort die folgenden Befehle ein:"
   ]
  },
  {
   "cell_type": "code",
   "execution_count": null,
   "metadata": {},
   "outputs": [],
   "source": [
    "sudo systemctl stop jupyter\n",
    "archivesspace/archivesspace.sh"
   ]
  },
  {
   "cell_type": "markdown",
   "metadata": {},
   "source": [
    "## Los geht's...\n",
    "\n",
    "Nach ein paar Minuten sollte ArchivesSpace unter folgenden URLs erreichbar sein:\n",
    "* http://localhost:8080/ – the staff interface\n",
    "* http://localhost:8081/ – the public interface\n",
    "* http://localhost:8082/ – the OAI-PMH server\n",
    "* http://localhost:8089/ – the backend\n",
    "* http://localhost:8090/ – the Solr admin console\n",
    "\n",
    "Zugangsdaten für das \"Staff Interface\" sind:\n",
    "* Username: `admin`\n",
    "* Password: `admin`"
   ]
  }
 ],
 "metadata": {
  "kernelspec": {
   "display_name": "Bash",
   "language": "bash",
   "name": "bash"
  },
  "language_info": {
   "codemirror_mode": "shell",
   "file_extension": ".sh",
   "mimetype": "text/x-sh",
   "name": "bash"
  }
 },
 "nbformat": 4,
 "nbformat_minor": 4
}
